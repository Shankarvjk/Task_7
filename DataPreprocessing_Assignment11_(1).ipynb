{
  "nbformat": 4,
  "nbformat_minor": 0,
  "metadata": {
    "colab": {
      "provenance": []
    },
    "kernelspec": {
      "name": "python3",
      "display_name": "Python 3"
    },
    "language_info": {
      "name": "python"
    }
  },
  "cells": [
    {
      "cell_type": "code",
      "metadata": {
        "id": "IUjqX9hqbb-6"
      },
      "source": [
        "#Data.csv"
      ],
      "execution_count": null,
      "outputs": []
    },
    {
      "cell_type": "markdown",
      "metadata": {
        "id": "AketbKR7cAaF"
      },
      "source": [
        "**Step 1: Importing the libraries**"
      ]
    },
    {
      "cell_type": "code",
      "metadata": {
        "id": "_ApieS21bdbN"
      },
      "source": [
        "import numpy as np\n",
        "import matplotlib.pyplot as plt\n",
        "import pandas as pd"
      ],
      "execution_count": 3,
      "outputs": []
    },
    {
      "cell_type": "code",
      "metadata": {
        "id": "U8Pa9Cx_bdgh"
      },
      "source": [],
      "execution_count": 50,
      "outputs": []
    },
    {
      "cell_type": "markdown",
      "metadata": {
        "id": "Gq1_kSwHcH4n"
      },
      "source": [
        "**Step 2: Importing dataset**"
      ]
    },
    {
      "cell_type": "code",
      "metadata": {
        "id": "HefV9KfcbdoE",
        "colab": {
          "base_uri": "https://localhost:8080/",
          "height": 363
        },
        "outputId": "f845ecca-22af-4339-f8d3-17d97de3b557"
      },
      "source": [
        "dataset = pd.read_csv('Data.csv')\n",
        "dataset"
      ],
      "execution_count": 56,
      "outputs": [
        {
          "output_type": "execute_result",
          "data": {
            "text/plain": [
              "   Country   Age   Salary Purchased\n",
              "0   France  44.0  72000.0        No\n",
              "1    Spain  27.0  48000.0       Yes\n",
              "2  Germany  30.0  54000.0        No\n",
              "3    Spain  38.0  61000.0        No\n",
              "4  Germany  40.0      NaN       Yes\n",
              "5   France  35.0  58000.0       Yes\n",
              "6    Spain   NaN  52000.0        No\n",
              "7   France  48.0  79000.0       Yes\n",
              "8  Germany  50.0  83000.0        No\n",
              "9   France  37.0  67000.0       Yes"
            ],
            "text/html": [
              "\n",
              "  <div id=\"df-768a0674-27fd-460a-bb48-4e7fe9a4d23f\">\n",
              "    <div class=\"colab-df-container\">\n",
              "      <div>\n",
              "<style scoped>\n",
              "    .dataframe tbody tr th:only-of-type {\n",
              "        vertical-align: middle;\n",
              "    }\n",
              "\n",
              "    .dataframe tbody tr th {\n",
              "        vertical-align: top;\n",
              "    }\n",
              "\n",
              "    .dataframe thead th {\n",
              "        text-align: right;\n",
              "    }\n",
              "</style>\n",
              "<table border=\"1\" class=\"dataframe\">\n",
              "  <thead>\n",
              "    <tr style=\"text-align: right;\">\n",
              "      <th></th>\n",
              "      <th>Country</th>\n",
              "      <th>Age</th>\n",
              "      <th>Salary</th>\n",
              "      <th>Purchased</th>\n",
              "    </tr>\n",
              "  </thead>\n",
              "  <tbody>\n",
              "    <tr>\n",
              "      <th>0</th>\n",
              "      <td>France</td>\n",
              "      <td>44.0</td>\n",
              "      <td>72000.0</td>\n",
              "      <td>No</td>\n",
              "    </tr>\n",
              "    <tr>\n",
              "      <th>1</th>\n",
              "      <td>Spain</td>\n",
              "      <td>27.0</td>\n",
              "      <td>48000.0</td>\n",
              "      <td>Yes</td>\n",
              "    </tr>\n",
              "    <tr>\n",
              "      <th>2</th>\n",
              "      <td>Germany</td>\n",
              "      <td>30.0</td>\n",
              "      <td>54000.0</td>\n",
              "      <td>No</td>\n",
              "    </tr>\n",
              "    <tr>\n",
              "      <th>3</th>\n",
              "      <td>Spain</td>\n",
              "      <td>38.0</td>\n",
              "      <td>61000.0</td>\n",
              "      <td>No</td>\n",
              "    </tr>\n",
              "    <tr>\n",
              "      <th>4</th>\n",
              "      <td>Germany</td>\n",
              "      <td>40.0</td>\n",
              "      <td>NaN</td>\n",
              "      <td>Yes</td>\n",
              "    </tr>\n",
              "    <tr>\n",
              "      <th>5</th>\n",
              "      <td>France</td>\n",
              "      <td>35.0</td>\n",
              "      <td>58000.0</td>\n",
              "      <td>Yes</td>\n",
              "    </tr>\n",
              "    <tr>\n",
              "      <th>6</th>\n",
              "      <td>Spain</td>\n",
              "      <td>NaN</td>\n",
              "      <td>52000.0</td>\n",
              "      <td>No</td>\n",
              "    </tr>\n",
              "    <tr>\n",
              "      <th>7</th>\n",
              "      <td>France</td>\n",
              "      <td>48.0</td>\n",
              "      <td>79000.0</td>\n",
              "      <td>Yes</td>\n",
              "    </tr>\n",
              "    <tr>\n",
              "      <th>8</th>\n",
              "      <td>Germany</td>\n",
              "      <td>50.0</td>\n",
              "      <td>83000.0</td>\n",
              "      <td>No</td>\n",
              "    </tr>\n",
              "    <tr>\n",
              "      <th>9</th>\n",
              "      <td>France</td>\n",
              "      <td>37.0</td>\n",
              "      <td>67000.0</td>\n",
              "      <td>Yes</td>\n",
              "    </tr>\n",
              "  </tbody>\n",
              "</table>\n",
              "</div>\n",
              "      <button class=\"colab-df-convert\" onclick=\"convertToInteractive('df-768a0674-27fd-460a-bb48-4e7fe9a4d23f')\"\n",
              "              title=\"Convert this dataframe to an interactive table.\"\n",
              "              style=\"display:none;\">\n",
              "        \n",
              "  <svg xmlns=\"http://www.w3.org/2000/svg\" height=\"24px\"viewBox=\"0 0 24 24\"\n",
              "       width=\"24px\">\n",
              "    <path d=\"M0 0h24v24H0V0z\" fill=\"none\"/>\n",
              "    <path d=\"M18.56 5.44l.94 2.06.94-2.06 2.06-.94-2.06-.94-.94-2.06-.94 2.06-2.06.94zm-11 1L8.5 8.5l.94-2.06 2.06-.94-2.06-.94L8.5 2.5l-.94 2.06-2.06.94zm10 10l.94 2.06.94-2.06 2.06-.94-2.06-.94-.94-2.06-.94 2.06-2.06.94z\"/><path d=\"M17.41 7.96l-1.37-1.37c-.4-.4-.92-.59-1.43-.59-.52 0-1.04.2-1.43.59L10.3 9.45l-7.72 7.72c-.78.78-.78 2.05 0 2.83L4 21.41c.39.39.9.59 1.41.59.51 0 1.02-.2 1.41-.59l7.78-7.78 2.81-2.81c.8-.78.8-2.07 0-2.86zM5.41 20L4 18.59l7.72-7.72 1.47 1.35L5.41 20z\"/>\n",
              "  </svg>\n",
              "      </button>\n",
              "      \n",
              "  <style>\n",
              "    .colab-df-container {\n",
              "      display:flex;\n",
              "      flex-wrap:wrap;\n",
              "      gap: 12px;\n",
              "    }\n",
              "\n",
              "    .colab-df-convert {\n",
              "      background-color: #E8F0FE;\n",
              "      border: none;\n",
              "      border-radius: 50%;\n",
              "      cursor: pointer;\n",
              "      display: none;\n",
              "      fill: #1967D2;\n",
              "      height: 32px;\n",
              "      padding: 0 0 0 0;\n",
              "      width: 32px;\n",
              "    }\n",
              "\n",
              "    .colab-df-convert:hover {\n",
              "      background-color: #E2EBFA;\n",
              "      box-shadow: 0px 1px 2px rgba(60, 64, 67, 0.3), 0px 1px 3px 1px rgba(60, 64, 67, 0.15);\n",
              "      fill: #174EA6;\n",
              "    }\n",
              "\n",
              "    [theme=dark] .colab-df-convert {\n",
              "      background-color: #3B4455;\n",
              "      fill: #D2E3FC;\n",
              "    }\n",
              "\n",
              "    [theme=dark] .colab-df-convert:hover {\n",
              "      background-color: #434B5C;\n",
              "      box-shadow: 0px 1px 3px 1px rgba(0, 0, 0, 0.15);\n",
              "      filter: drop-shadow(0px 1px 2px rgba(0, 0, 0, 0.3));\n",
              "      fill: #FFFFFF;\n",
              "    }\n",
              "  </style>\n",
              "\n",
              "      <script>\n",
              "        const buttonEl =\n",
              "          document.querySelector('#df-768a0674-27fd-460a-bb48-4e7fe9a4d23f button.colab-df-convert');\n",
              "        buttonEl.style.display =\n",
              "          google.colab.kernel.accessAllowed ? 'block' : 'none';\n",
              "\n",
              "        async function convertToInteractive(key) {\n",
              "          const element = document.querySelector('#df-768a0674-27fd-460a-bb48-4e7fe9a4d23f');\n",
              "          const dataTable =\n",
              "            await google.colab.kernel.invokeFunction('convertToInteractive',\n",
              "                                                     [key], {});\n",
              "          if (!dataTable) return;\n",
              "\n",
              "          const docLinkHtml = 'Like what you see? Visit the ' +\n",
              "            '<a target=\"_blank\" href=https://colab.research.google.com/notebooks/data_table.ipynb>data table notebook</a>'\n",
              "            + ' to learn more about interactive tables.';\n",
              "          element.innerHTML = '';\n",
              "          dataTable['output_type'] = 'display_data';\n",
              "          await google.colab.output.renderOutput(dataTable, element);\n",
              "          const docLink = document.createElement('div');\n",
              "          docLink.innerHTML = docLinkHtml;\n",
              "          element.appendChild(docLink);\n",
              "        }\n",
              "      </script>\n",
              "    </div>\n",
              "  </div>\n",
              "  "
            ]
          },
          "metadata": {},
          "execution_count": 56
        }
      ]
    },
    {
      "cell_type": "code",
      "source": [
        "dataset.isnull().sum()/len(dataset)*100"
      ],
      "metadata": {
        "colab": {
          "base_uri": "https://localhost:8080/"
        },
        "id": "LC2fJZZ43aP9",
        "outputId": "95feb281-9141-488a-cd5d-b51474125da2"
      },
      "execution_count": 68,
      "outputs": [
        {
          "output_type": "execute_result",
          "data": {
            "text/plain": [
              "Country       0.0\n",
              "Age          10.0\n",
              "Salary       10.0\n",
              "Purchased     0.0\n",
              "dtype: float64"
            ]
          },
          "metadata": {},
          "execution_count": 68
        }
      ]
    },
    {
      "cell_type": "code",
      "source": [
        "p"
      ],
      "metadata": {
        "colab": {
          "base_uri": "https://localhost:8080/",
          "height": 363
        },
        "id": "WRQAsLVqyvjm",
        "outputId": "1a4cb5c3-039c-4fae-c5b1-11b0426a466e"
      },
      "execution_count": 61,
      "outputs": [
        {
          "output_type": "execute_result",
          "data": {
            "text/plain": [
              "   Country          Age       Salary Purchased\n",
              "0   France         44.0      72000.0        No\n",
              "1    Spain         27.0      48000.0       Yes\n",
              "2  Germany         30.0      54000.0        No\n",
              "3    Spain         38.0      61000.0        No\n",
              "4  Germany         40.0  222222222.0       Yes\n",
              "5   France         35.0      58000.0       Yes\n",
              "6    Spain  222222222.0      52000.0        No\n",
              "7   France         48.0      79000.0       Yes\n",
              "8  Germany         50.0      83000.0        No\n",
              "9   France         37.0      67000.0       Yes"
            ],
            "text/html": [
              "\n",
              "  <div id=\"df-ff4eff9e-64eb-4b6d-ab00-afd08d0ac591\">\n",
              "    <div class=\"colab-df-container\">\n",
              "      <div>\n",
              "<style scoped>\n",
              "    .dataframe tbody tr th:only-of-type {\n",
              "        vertical-align: middle;\n",
              "    }\n",
              "\n",
              "    .dataframe tbody tr th {\n",
              "        vertical-align: top;\n",
              "    }\n",
              "\n",
              "    .dataframe thead th {\n",
              "        text-align: right;\n",
              "    }\n",
              "</style>\n",
              "<table border=\"1\" class=\"dataframe\">\n",
              "  <thead>\n",
              "    <tr style=\"text-align: right;\">\n",
              "      <th></th>\n",
              "      <th>Country</th>\n",
              "      <th>Age</th>\n",
              "      <th>Salary</th>\n",
              "      <th>Purchased</th>\n",
              "    </tr>\n",
              "  </thead>\n",
              "  <tbody>\n",
              "    <tr>\n",
              "      <th>0</th>\n",
              "      <td>France</td>\n",
              "      <td>44.0</td>\n",
              "      <td>72000.0</td>\n",
              "      <td>No</td>\n",
              "    </tr>\n",
              "    <tr>\n",
              "      <th>1</th>\n",
              "      <td>Spain</td>\n",
              "      <td>27.0</td>\n",
              "      <td>48000.0</td>\n",
              "      <td>Yes</td>\n",
              "    </tr>\n",
              "    <tr>\n",
              "      <th>2</th>\n",
              "      <td>Germany</td>\n",
              "      <td>30.0</td>\n",
              "      <td>54000.0</td>\n",
              "      <td>No</td>\n",
              "    </tr>\n",
              "    <tr>\n",
              "      <th>3</th>\n",
              "      <td>Spain</td>\n",
              "      <td>38.0</td>\n",
              "      <td>61000.0</td>\n",
              "      <td>No</td>\n",
              "    </tr>\n",
              "    <tr>\n",
              "      <th>4</th>\n",
              "      <td>Germany</td>\n",
              "      <td>40.0</td>\n",
              "      <td>222222222.0</td>\n",
              "      <td>Yes</td>\n",
              "    </tr>\n",
              "    <tr>\n",
              "      <th>5</th>\n",
              "      <td>France</td>\n",
              "      <td>35.0</td>\n",
              "      <td>58000.0</td>\n",
              "      <td>Yes</td>\n",
              "    </tr>\n",
              "    <tr>\n",
              "      <th>6</th>\n",
              "      <td>Spain</td>\n",
              "      <td>222222222.0</td>\n",
              "      <td>52000.0</td>\n",
              "      <td>No</td>\n",
              "    </tr>\n",
              "    <tr>\n",
              "      <th>7</th>\n",
              "      <td>France</td>\n",
              "      <td>48.0</td>\n",
              "      <td>79000.0</td>\n",
              "      <td>Yes</td>\n",
              "    </tr>\n",
              "    <tr>\n",
              "      <th>8</th>\n",
              "      <td>Germany</td>\n",
              "      <td>50.0</td>\n",
              "      <td>83000.0</td>\n",
              "      <td>No</td>\n",
              "    </tr>\n",
              "    <tr>\n",
              "      <th>9</th>\n",
              "      <td>France</td>\n",
              "      <td>37.0</td>\n",
              "      <td>67000.0</td>\n",
              "      <td>Yes</td>\n",
              "    </tr>\n",
              "  </tbody>\n",
              "</table>\n",
              "</div>\n",
              "      <button class=\"colab-df-convert\" onclick=\"convertToInteractive('df-ff4eff9e-64eb-4b6d-ab00-afd08d0ac591')\"\n",
              "              title=\"Convert this dataframe to an interactive table.\"\n",
              "              style=\"display:none;\">\n",
              "        \n",
              "  <svg xmlns=\"http://www.w3.org/2000/svg\" height=\"24px\"viewBox=\"0 0 24 24\"\n",
              "       width=\"24px\">\n",
              "    <path d=\"M0 0h24v24H0V0z\" fill=\"none\"/>\n",
              "    <path d=\"M18.56 5.44l.94 2.06.94-2.06 2.06-.94-2.06-.94-.94-2.06-.94 2.06-2.06.94zm-11 1L8.5 8.5l.94-2.06 2.06-.94-2.06-.94L8.5 2.5l-.94 2.06-2.06.94zm10 10l.94 2.06.94-2.06 2.06-.94-2.06-.94-.94-2.06-.94 2.06-2.06.94z\"/><path d=\"M17.41 7.96l-1.37-1.37c-.4-.4-.92-.59-1.43-.59-.52 0-1.04.2-1.43.59L10.3 9.45l-7.72 7.72c-.78.78-.78 2.05 0 2.83L4 21.41c.39.39.9.59 1.41.59.51 0 1.02-.2 1.41-.59l7.78-7.78 2.81-2.81c.8-.78.8-2.07 0-2.86zM5.41 20L4 18.59l7.72-7.72 1.47 1.35L5.41 20z\"/>\n",
              "  </svg>\n",
              "      </button>\n",
              "      \n",
              "  <style>\n",
              "    .colab-df-container {\n",
              "      display:flex;\n",
              "      flex-wrap:wrap;\n",
              "      gap: 12px;\n",
              "    }\n",
              "\n",
              "    .colab-df-convert {\n",
              "      background-color: #E8F0FE;\n",
              "      border: none;\n",
              "      border-radius: 50%;\n",
              "      cursor: pointer;\n",
              "      display: none;\n",
              "      fill: #1967D2;\n",
              "      height: 32px;\n",
              "      padding: 0 0 0 0;\n",
              "      width: 32px;\n",
              "    }\n",
              "\n",
              "    .colab-df-convert:hover {\n",
              "      background-color: #E2EBFA;\n",
              "      box-shadow: 0px 1px 2px rgba(60, 64, 67, 0.3), 0px 1px 3px 1px rgba(60, 64, 67, 0.15);\n",
              "      fill: #174EA6;\n",
              "    }\n",
              "\n",
              "    [theme=dark] .colab-df-convert {\n",
              "      background-color: #3B4455;\n",
              "      fill: #D2E3FC;\n",
              "    }\n",
              "\n",
              "    [theme=dark] .colab-df-convert:hover {\n",
              "      background-color: #434B5C;\n",
              "      box-shadow: 0px 1px 3px 1px rgba(0, 0, 0, 0.15);\n",
              "      filter: drop-shadow(0px 1px 2px rgba(0, 0, 0, 0.3));\n",
              "      fill: #FFFFFF;\n",
              "    }\n",
              "  </style>\n",
              "\n",
              "      <script>\n",
              "        const buttonEl =\n",
              "          document.querySelector('#df-ff4eff9e-64eb-4b6d-ab00-afd08d0ac591 button.colab-df-convert');\n",
              "        buttonEl.style.display =\n",
              "          google.colab.kernel.accessAllowed ? 'block' : 'none';\n",
              "\n",
              "        async function convertToInteractive(key) {\n",
              "          const element = document.querySelector('#df-ff4eff9e-64eb-4b6d-ab00-afd08d0ac591');\n",
              "          const dataTable =\n",
              "            await google.colab.kernel.invokeFunction('convertToInteractive',\n",
              "                                                     [key], {});\n",
              "          if (!dataTable) return;\n",
              "\n",
              "          const docLinkHtml = 'Like what you see? Visit the ' +\n",
              "            '<a target=\"_blank\" href=https://colab.research.google.com/notebooks/data_table.ipynb>data table notebook</a>'\n",
              "            + ' to learn more about interactive tables.';\n",
              "          element.innerHTML = '';\n",
              "          dataTable['output_type'] = 'display_data';\n",
              "          await google.colab.output.renderOutput(dataTable, element);\n",
              "          const docLink = document.createElement('div');\n",
              "          docLink.innerHTML = docLinkHtml;\n",
              "          element.appendChild(docLink);\n",
              "        }\n",
              "      </script>\n",
              "    </div>\n",
              "  </div>\n",
              "  "
            ]
          },
          "metadata": {},
          "execution_count": 61
        }
      ]
    },
    {
      "cell_type": "markdown",
      "metadata": {
        "id": "FxaiAQCQcX7Z"
      },
      "source": [
        "**Step 3: Handling the missing data**"
      ]
    },
    {
      "cell_type": "code",
      "metadata": {
        "id": "veMJJywXbdr-"
      },
      "source": [
        "X = dataset.iloc[:, :-1].values\n",
        "y = dataset.iloc[:,3].values"
      ],
      "execution_count": 7,
      "outputs": []
    },
    {
      "cell_type": "code",
      "source": [
        "from sklearn.impute import SimpleImputer"
      ],
      "metadata": {
        "id": "PzKdsNwZaPOe"
      },
      "execution_count": 12,
      "outputs": []
    },
    {
      "cell_type": "code",
      "source": [
        "imputer = SimpleImputer(missing_values=np.nan, strategy='mean')"
      ],
      "metadata": {
        "id": "N0TjK5H9c73Q"
      },
      "execution_count": 19,
      "outputs": []
    },
    {
      "cell_type": "code",
      "source": [
        "imputer = imputer.fit(X[:, 1:3])"
      ],
      "metadata": {
        "id": "2wAzQKTIdp0m"
      },
      "execution_count": 20,
      "outputs": []
    },
    {
      "cell_type": "code",
      "source": [
        "X"
      ],
      "metadata": {
        "colab": {
          "base_uri": "https://localhost:8080/"
        },
        "id": "fk5IhHdk0O3z",
        "outputId": "eef1ba5a-b891-4dc6-9c59-5bd07d685997"
      },
      "execution_count": 53,
      "outputs": [
        {
          "output_type": "execute_result",
          "data": {
            "text/plain": [
              "array([[0., 1., 1., 0., 1., 0., 1., 0., 1., 0., 1., 0., 1., 0., 1., 0.,\n",
              "        1., 0., 1., 0., 0., 1., 1., 0., 1., 0., 1., 0., 1., 0., 1., 0.,\n",
              "        1., 0., 1., 0., 1., 0., 1., 0., 0., 1., 1., 0., 1., 0.],\n",
              "       [1., 0., 1., 0., 0., 1., 0., 1., 1., 0., 1., 0., 1., 0., 1., 0.,\n",
              "        1., 0., 1., 0., 1., 0., 1., 0., 1., 0., 0., 1., 1., 0., 1., 0.,\n",
              "        1., 0., 1., 0., 1., 0., 1., 0., 1., 0., 1., 0., 1., 0.],\n",
              "       [1., 0., 0., 1., 1., 0., 1., 0., 0., 1., 1., 0., 1., 0., 1., 0.,\n",
              "        1., 0., 1., 0., 1., 0., 1., 0., 1., 0., 1., 0., 1., 0., 0., 1.,\n",
              "        1., 0., 1., 0., 1., 0., 1., 0., 1., 0., 1., 0., 1., 0.],\n",
              "       [1., 0., 1., 0., 0., 1., 1., 0., 1., 0., 1., 0., 1., 0., 0., 1.,\n",
              "        1., 0., 1., 0., 1., 0., 1., 0., 1., 0., 1., 0., 1., 0., 1., 0.,\n",
              "        1., 0., 0., 1., 1., 0., 1., 0., 1., 0., 1., 0., 1., 0.],\n",
              "       [1., 0., 0., 1., 1., 0., 1., 0., 1., 0., 1., 0., 1., 0., 1., 0.,\n",
              "        1., 0., 0., 1., 1., 0., 1., 0., 1., 0., 1., 0., 1., 0., 1., 0.,\n",
              "        1., 0., 1., 0., 0., 1., 1., 0., 1., 0., 1., 0., 1., 0.],\n",
              "       [0., 1., 1., 0., 1., 0., 1., 0., 1., 0., 0., 1., 1., 0., 1., 0.,\n",
              "        1., 0., 1., 0., 1., 0., 1., 0., 1., 0., 1., 0., 1., 0., 1., 0.,\n",
              "        0., 1., 1., 0., 1., 0., 1., 0., 1., 0., 1., 0., 1., 0.],\n",
              "       [1., 0., 1., 0., 0., 1., 1., 0., 1., 0., 1., 0., 1., 0., 1., 0.,\n",
              "        0., 1., 1., 0., 1., 0., 1., 0., 1., 0., 1., 0., 0., 1., 1., 0.,\n",
              "        1., 0., 1., 0., 1., 0., 1., 0., 1., 0., 1., 0., 1., 0.],\n",
              "       [0., 1., 1., 0., 1., 0., 1., 0., 1., 0., 1., 0., 1., 0., 1., 0.,\n",
              "        1., 0., 1., 0., 1., 0., 0., 1., 1., 0., 1., 0., 1., 0., 1., 0.,\n",
              "        1., 0., 1., 0., 1., 0., 1., 0., 1., 0., 0., 1., 1., 0.],\n",
              "       [1., 0., 0., 1., 1., 0., 1., 0., 1., 0., 1., 0., 1., 0., 1., 0.,\n",
              "        1., 0., 1., 0., 1., 0., 1., 0., 0., 1., 1., 0., 1., 0., 1., 0.,\n",
              "        1., 0., 1., 0., 1., 0., 1., 0., 1., 0., 1., 0., 0., 1.],\n",
              "       [0., 1., 1., 0., 1., 0., 1., 0., 1., 0., 1., 0., 0., 1., 1., 0.,\n",
              "        1., 0., 1., 0., 1., 0., 1., 0., 1., 0., 1., 0., 1., 0., 1., 0.,\n",
              "        1., 0., 1., 0., 1., 0., 0., 1., 1., 0., 1., 0., 1., 0.]])"
            ]
          },
          "metadata": {},
          "execution_count": 53
        }
      ]
    },
    {
      "cell_type": "code",
      "source": [
        "X[:, 1:3]"
      ],
      "metadata": {
        "colab": {
          "base_uri": "https://localhost:8080/"
        },
        "id": "IW4oT10Q0OmT",
        "outputId": "4863e784-924e-4bbe-b420-e016e2d5230c"
      },
      "execution_count": 54,
      "outputs": [
        {
          "output_type": "execute_result",
          "data": {
            "text/plain": [
              "array([[1., 1.],\n",
              "       [0., 1.],\n",
              "       [0., 0.],\n",
              "       [0., 1.],\n",
              "       [0., 0.],\n",
              "       [1., 1.],\n",
              "       [0., 1.],\n",
              "       [1., 1.],\n",
              "       [0., 0.],\n",
              "       [1., 1.]])"
            ]
          },
          "metadata": {},
          "execution_count": 54
        }
      ]
    },
    {
      "cell_type": "code",
      "source": [
        "X[:, 1:3] = imputer.transform(X[:, 1:3])\n",
        "X"
      ],
      "metadata": {
        "colab": {
          "base_uri": "https://localhost:8080/"
        },
        "id": "ZZ-xDk4Aee52",
        "outputId": "30d566c7-2917-4013-fea6-0fd5058b51dd"
      },
      "execution_count": 22,
      "outputs": [
        {
          "output_type": "execute_result",
          "data": {
            "text/plain": [
              "array([['France', 44.0, 72000.0],\n",
              "       ['Spain', 27.0, 48000.0],\n",
              "       ['Germany', 30.0, 54000.0],\n",
              "       ['Spain', 38.0, 61000.0],\n",
              "       ['Germany', 40.0, 63777.77777777778],\n",
              "       ['France', 35.0, 58000.0],\n",
              "       ['Spain', 38.77777777777778, 52000.0],\n",
              "       ['France', 48.0, 79000.0],\n",
              "       ['Germany', 50.0, 83000.0],\n",
              "       ['France', 37.0, 67000.0]], dtype=object)"
            ]
          },
          "metadata": {},
          "execution_count": 22
        }
      ]
    },
    {
      "cell_type": "markdown",
      "metadata": {
        "id": "wBdj7QVmciFh"
      },
      "source": [
        "**Step 4: Encoding categorical data**"
      ]
    },
    {
      "cell_type": "code",
      "metadata": {
        "id": "Nbgm4YJBbdwG"
      },
      "source": [
        "from sklearn.preprocessing import LabelEncoder, OneHotEncoder"
      ],
      "execution_count": 23,
      "outputs": []
    },
    {
      "cell_type": "code",
      "source": [
        "labelencoder_X = LabelEncoder()"
      ],
      "metadata": {
        "id": "I8WabZePhU2e"
      },
      "execution_count": 24,
      "outputs": []
    },
    {
      "cell_type": "code",
      "source": [
        "X[:,0]"
      ],
      "metadata": {
        "colab": {
          "base_uri": "https://localhost:8080/"
        },
        "id": "0zh-Q0Uqj7be",
        "outputId": "e55e4c2e-85fd-4203-bf5e-3cd1ca64842c"
      },
      "execution_count": 25,
      "outputs": [
        {
          "output_type": "execute_result",
          "data": {
            "text/plain": [
              "array(['France', 'Spain', 'Germany', 'Spain', 'Germany', 'France',\n",
              "       'Spain', 'France', 'Germany', 'France'], dtype=object)"
            ]
          },
          "metadata": {},
          "execution_count": 25
        }
      ]
    },
    {
      "cell_type": "code",
      "source": [
        "X[:,0] = labelencoder_X.fit_transform(X[:,0])"
      ],
      "metadata": {
        "id": "QoqFKDbzjjLh"
      },
      "execution_count": 26,
      "outputs": []
    },
    {
      "cell_type": "code",
      "source": [
        "X[:,0]"
      ],
      "metadata": {
        "colab": {
          "base_uri": "https://localhost:8080/"
        },
        "id": "rLpQE1E8kA6S",
        "outputId": "5ef5461f-1575-4e20-a9e2-1d21ec526700"
      },
      "execution_count": 27,
      "outputs": [
        {
          "output_type": "execute_result",
          "data": {
            "text/plain": [
              "array([0, 2, 1, 2, 1, 0, 2, 0, 1, 0], dtype=object)"
            ]
          },
          "metadata": {},
          "execution_count": 27
        }
      ]
    },
    {
      "cell_type": "markdown",
      "metadata": {
        "id": "cFSk6n3XcpIs"
      },
      "source": [
        "**Step 5: Creating a dummy variable**"
      ]
    },
    {
      "cell_type": "code",
      "metadata": {
        "id": "9ETxfCgZbd0O"
      },
      "source": [
        "onehotencoder = OneHotEncoder()"
      ],
      "execution_count": 30,
      "outputs": []
    },
    {
      "cell_type": "code",
      "source": [
        "X"
      ],
      "metadata": {
        "colab": {
          "base_uri": "https://localhost:8080/"
        },
        "id": "3ypvjwGQqP71",
        "outputId": "551dcd5b-0a29-4b0c-87f0-fcca8a112e0a"
      },
      "execution_count": 31,
      "outputs": [
        {
          "output_type": "execute_result",
          "data": {
            "text/plain": [
              "array([[0, 44.0, 72000.0],\n",
              "       [2, 27.0, 48000.0],\n",
              "       [1, 30.0, 54000.0],\n",
              "       [2, 38.0, 61000.0],\n",
              "       [1, 40.0, 63777.77777777778],\n",
              "       [0, 35.0, 58000.0],\n",
              "       [2, 38.77777777777778, 52000.0],\n",
              "       [0, 48.0, 79000.0],\n",
              "       [1, 50.0, 83000.0],\n",
              "       [0, 37.0, 67000.0]], dtype=object)"
            ]
          },
          "metadata": {},
          "execution_count": 31
        }
      ]
    },
    {
      "cell_type": "code",
      "source": [
        "X = onehotencoder.fit_transform(X).toarray()\n",
        "X"
      ],
      "metadata": {
        "colab": {
          "base_uri": "https://localhost:8080/"
        },
        "id": "dnfN98cdqaz6",
        "outputId": "7f2acc79-9506-4a26-bbbe-df136226930c"
      },
      "execution_count": 33,
      "outputs": [
        {
          "output_type": "execute_result",
          "data": {
            "text/plain": [
              "array([[0., 1., 1., 0., 1., 0., 1., 0., 1., 0., 1., 0., 1., 0., 1., 0.,\n",
              "        1., 0., 1., 0., 0., 1., 1., 0., 1., 0., 1., 0., 1., 0., 1., 0.,\n",
              "        1., 0., 1., 0., 1., 0., 1., 0., 0., 1., 1., 0., 1., 0.],\n",
              "       [1., 0., 1., 0., 0., 1., 0., 1., 1., 0., 1., 0., 1., 0., 1., 0.,\n",
              "        1., 0., 1., 0., 1., 0., 1., 0., 1., 0., 0., 1., 1., 0., 1., 0.,\n",
              "        1., 0., 1., 0., 1., 0., 1., 0., 1., 0., 1., 0., 1., 0.],\n",
              "       [1., 0., 0., 1., 1., 0., 1., 0., 0., 1., 1., 0., 1., 0., 1., 0.,\n",
              "        1., 0., 1., 0., 1., 0., 1., 0., 1., 0., 1., 0., 1., 0., 0., 1.,\n",
              "        1., 0., 1., 0., 1., 0., 1., 0., 1., 0., 1., 0., 1., 0.],\n",
              "       [1., 0., 1., 0., 0., 1., 1., 0., 1., 0., 1., 0., 1., 0., 0., 1.,\n",
              "        1., 0., 1., 0., 1., 0., 1., 0., 1., 0., 1., 0., 1., 0., 1., 0.,\n",
              "        1., 0., 0., 1., 1., 0., 1., 0., 1., 0., 1., 0., 1., 0.],\n",
              "       [1., 0., 0., 1., 1., 0., 1., 0., 1., 0., 1., 0., 1., 0., 1., 0.,\n",
              "        1., 0., 0., 1., 1., 0., 1., 0., 1., 0., 1., 0., 1., 0., 1., 0.,\n",
              "        1., 0., 1., 0., 0., 1., 1., 0., 1., 0., 1., 0., 1., 0.],\n",
              "       [0., 1., 1., 0., 1., 0., 1., 0., 1., 0., 0., 1., 1., 0., 1., 0.,\n",
              "        1., 0., 1., 0., 1., 0., 1., 0., 1., 0., 1., 0., 1., 0., 1., 0.,\n",
              "        0., 1., 1., 0., 1., 0., 1., 0., 1., 0., 1., 0., 1., 0.],\n",
              "       [1., 0., 1., 0., 0., 1., 1., 0., 1., 0., 1., 0., 1., 0., 1., 0.,\n",
              "        0., 1., 1., 0., 1., 0., 1., 0., 1., 0., 1., 0., 0., 1., 1., 0.,\n",
              "        1., 0., 1., 0., 1., 0., 1., 0., 1., 0., 1., 0., 1., 0.],\n",
              "       [0., 1., 1., 0., 1., 0., 1., 0., 1., 0., 1., 0., 1., 0., 1., 0.,\n",
              "        1., 0., 1., 0., 1., 0., 0., 1., 1., 0., 1., 0., 1., 0., 1., 0.,\n",
              "        1., 0., 1., 0., 1., 0., 1., 0., 1., 0., 0., 1., 1., 0.],\n",
              "       [1., 0., 0., 1., 1., 0., 1., 0., 1., 0., 1., 0., 1., 0., 1., 0.,\n",
              "        1., 0., 1., 0., 1., 0., 1., 0., 0., 1., 1., 0., 1., 0., 1., 0.,\n",
              "        1., 0., 1., 0., 1., 0., 1., 0., 1., 0., 1., 0., 0., 1.],\n",
              "       [0., 1., 1., 0., 1., 0., 1., 0., 1., 0., 1., 0., 0., 1., 1., 0.,\n",
              "        1., 0., 1., 0., 1., 0., 1., 0., 1., 0., 1., 0., 1., 0., 1., 0.,\n",
              "        1., 0., 1., 0., 1., 0., 0., 1., 1., 0., 1., 0., 1., 0.]])"
            ]
          },
          "metadata": {},
          "execution_count": 33
        }
      ]
    },
    {
      "cell_type": "code",
      "source": [
        "labelencoder_y = LabelEncoder()"
      ],
      "metadata": {
        "id": "ULV-jVclq9gU"
      },
      "execution_count": 34,
      "outputs": []
    },
    {
      "cell_type": "code",
      "source": [
        "y"
      ],
      "metadata": {
        "colab": {
          "base_uri": "https://localhost:8080/"
        },
        "id": "TGlTlZ79rFXA",
        "outputId": "9fc93a88-41de-40d4-d6cb-87dff247a638"
      },
      "execution_count": 35,
      "outputs": [
        {
          "output_type": "execute_result",
          "data": {
            "text/plain": [
              "array(['No', 'Yes', 'No', 'No', 'Yes', 'Yes', 'No', 'Yes', 'No', 'Yes'],\n",
              "      dtype=object)"
            ]
          },
          "metadata": {},
          "execution_count": 35
        }
      ]
    },
    {
      "cell_type": "code",
      "source": [
        "y = labelencoder_y.fit_transform(y)\n",
        "y"
      ],
      "metadata": {
        "colab": {
          "base_uri": "https://localhost:8080/"
        },
        "id": "H5SqYsdirJ0d",
        "outputId": "12aa1e2c-958a-4b86-b6b1-aa392f8618a4"
      },
      "execution_count": 36,
      "outputs": [
        {
          "output_type": "execute_result",
          "data": {
            "text/plain": [
              "array([0, 1, 0, 0, 1, 1, 0, 1, 0, 1])"
            ]
          },
          "metadata": {},
          "execution_count": 36
        }
      ]
    },
    {
      "cell_type": "markdown",
      "metadata": {
        "id": "QSSKm1p4c2md"
      },
      "source": [
        "**Step 6: Splitting the datasets into training sets and Test sets**"
      ]
    },
    {
      "cell_type": "code",
      "metadata": {
        "id": "kw21hHAqbd4x"
      },
      "source": [
        "from sklearn.model_selection import train_test_split"
      ],
      "execution_count": 38,
      "outputs": []
    },
    {
      "cell_type": "code",
      "source": [
        "X_train, X_test, y_train, y_test = train_test_split(X, y, test_size = 0.2, random_state = 0)"
      ],
      "metadata": {
        "id": "ZZpLYTjowTcW"
      },
      "execution_count": 39,
      "outputs": []
    },
    {
      "cell_type": "markdown",
      "metadata": {
        "id": "YA8VCdb5c9Dh"
      },
      "source": [
        "**Step 7: Feature Scaling**"
      ]
    },
    {
      "cell_type": "code",
      "metadata": {
        "id": "LhV2lO1Gbd9l"
      },
      "source": [
        "from sklearn.preprocessing import StandardScaler"
      ],
      "execution_count": 41,
      "outputs": []
    },
    {
      "cell_type": "code",
      "metadata": {
        "id": "zRwvGcTdbeCd"
      },
      "source": [
        "sc_X = StandardScaler()"
      ],
      "execution_count": 42,
      "outputs": []
    },
    {
      "cell_type": "code",
      "source": [
        "X_train"
      ],
      "metadata": {
        "colab": {
          "base_uri": "https://localhost:8080/"
        },
        "id": "IwD2F9wixOPw",
        "outputId": "16561bf9-3b78-4563-f6e8-b663130a71fe"
      },
      "execution_count": 43,
      "outputs": [
        {
          "output_type": "execute_result",
          "data": {
            "text/plain": [
              "array([[1., 0., 0., 1., 1., 0., 1., 0., 1., 0., 1., 0., 1., 0., 1., 0.,\n",
              "        1., 0., 0., 1., 1., 0., 1., 0., 1., 0., 1., 0., 1., 0., 1., 0.,\n",
              "        1., 0., 1., 0., 0., 1., 1., 0., 1., 0., 1., 0., 1., 0.],\n",
              "       [0., 1., 1., 0., 1., 0., 1., 0., 1., 0., 1., 0., 0., 1., 1., 0.,\n",
              "        1., 0., 1., 0., 1., 0., 1., 0., 1., 0., 1., 0., 1., 0., 1., 0.,\n",
              "        1., 0., 1., 0., 1., 0., 0., 1., 1., 0., 1., 0., 1., 0.],\n",
              "       [1., 0., 1., 0., 0., 1., 0., 1., 1., 0., 1., 0., 1., 0., 1., 0.,\n",
              "        1., 0., 1., 0., 1., 0., 1., 0., 1., 0., 0., 1., 1., 0., 1., 0.,\n",
              "        1., 0., 1., 0., 1., 0., 1., 0., 1., 0., 1., 0., 1., 0.],\n",
              "       [1., 0., 1., 0., 0., 1., 1., 0., 1., 0., 1., 0., 1., 0., 1., 0.,\n",
              "        0., 1., 1., 0., 1., 0., 1., 0., 1., 0., 1., 0., 0., 1., 1., 0.,\n",
              "        1., 0., 1., 0., 1., 0., 1., 0., 1., 0., 1., 0., 1., 0.],\n",
              "       [0., 1., 1., 0., 1., 0., 1., 0., 1., 0., 1., 0., 1., 0., 1., 0.,\n",
              "        1., 0., 1., 0., 1., 0., 0., 1., 1., 0., 1., 0., 1., 0., 1., 0.,\n",
              "        1., 0., 1., 0., 1., 0., 1., 0., 1., 0., 0., 1., 1., 0.],\n",
              "       [1., 0., 1., 0., 0., 1., 1., 0., 1., 0., 1., 0., 1., 0., 0., 1.,\n",
              "        1., 0., 1., 0., 1., 0., 1., 0., 1., 0., 1., 0., 1., 0., 1., 0.,\n",
              "        1., 0., 0., 1., 1., 0., 1., 0., 1., 0., 1., 0., 1., 0.],\n",
              "       [0., 1., 1., 0., 1., 0., 1., 0., 1., 0., 1., 0., 1., 0., 1., 0.,\n",
              "        1., 0., 1., 0., 0., 1., 1., 0., 1., 0., 1., 0., 1., 0., 1., 0.,\n",
              "        1., 0., 1., 0., 1., 0., 1., 0., 0., 1., 1., 0., 1., 0.],\n",
              "       [0., 1., 1., 0., 1., 0., 1., 0., 1., 0., 0., 1., 1., 0., 1., 0.,\n",
              "        1., 0., 1., 0., 1., 0., 1., 0., 1., 0., 1., 0., 1., 0., 1., 0.,\n",
              "        0., 1., 1., 0., 1., 0., 1., 0., 1., 0., 1., 0., 1., 0.]])"
            ]
          },
          "metadata": {},
          "execution_count": 43
        }
      ]
    },
    {
      "cell_type": "code",
      "source": [
        "X_train = sc_X.fit_transform(X_train)"
      ],
      "metadata": {
        "id": "EPxyXfwhx0OX"
      },
      "execution_count": 44,
      "outputs": []
    },
    {
      "cell_type": "code",
      "source": [
        "X_train"
      ],
      "metadata": {
        "colab": {
          "base_uri": "https://localhost:8080/"
        },
        "id": "nD6Z4_z1x_OL",
        "outputId": "c91b3897-5f2d-4a34-cc5c-1f31c3341e99"
      },
      "execution_count": 45,
      "outputs": [
        {
          "output_type": "execute_result",
          "data": {
            "text/plain": [
              "array([[ 1.        , -1.        , -2.64575131,  2.64575131,  0.77459667,\n",
              "        -0.77459667,  0.37796447, -0.37796447,  0.        ,  0.        ,\n",
              "         0.37796447, -0.37796447,  0.37796447, -0.37796447,  0.37796447,\n",
              "        -0.37796447,  0.37796447, -0.37796447, -2.64575131,  2.64575131,\n",
              "         0.37796447, -0.37796447,  0.37796447, -0.37796447,  0.        ,\n",
              "         0.        ,  0.37796447, -0.37796447,  0.37796447, -0.37796447,\n",
              "         0.        ,  0.        ,  0.37796447, -0.37796447,  0.37796447,\n",
              "        -0.37796447, -2.64575131,  2.64575131,  0.37796447, -0.37796447,\n",
              "         0.37796447, -0.37796447,  0.37796447, -0.37796447,  0.        ,\n",
              "         0.        ],\n",
              "       [-1.        ,  1.        ,  0.37796447, -0.37796447,  0.77459667,\n",
              "        -0.77459667,  0.37796447, -0.37796447,  0.        ,  0.        ,\n",
              "         0.37796447, -0.37796447, -2.64575131,  2.64575131,  0.37796447,\n",
              "        -0.37796447,  0.37796447, -0.37796447,  0.37796447, -0.37796447,\n",
              "         0.37796447, -0.37796447,  0.37796447, -0.37796447,  0.        ,\n",
              "         0.        ,  0.37796447, -0.37796447,  0.37796447, -0.37796447,\n",
              "         0.        ,  0.        ,  0.37796447, -0.37796447,  0.37796447,\n",
              "        -0.37796447,  0.37796447, -0.37796447, -2.64575131,  2.64575131,\n",
              "         0.37796447, -0.37796447,  0.37796447, -0.37796447,  0.        ,\n",
              "         0.        ],\n",
              "       [ 1.        , -1.        ,  0.37796447, -0.37796447, -1.29099445,\n",
              "         1.29099445, -2.64575131,  2.64575131,  0.        ,  0.        ,\n",
              "         0.37796447, -0.37796447,  0.37796447, -0.37796447,  0.37796447,\n",
              "        -0.37796447,  0.37796447, -0.37796447,  0.37796447, -0.37796447,\n",
              "         0.37796447, -0.37796447,  0.37796447, -0.37796447,  0.        ,\n",
              "         0.        , -2.64575131,  2.64575131,  0.37796447, -0.37796447,\n",
              "         0.        ,  0.        ,  0.37796447, -0.37796447,  0.37796447,\n",
              "        -0.37796447,  0.37796447, -0.37796447,  0.37796447, -0.37796447,\n",
              "         0.37796447, -0.37796447,  0.37796447, -0.37796447,  0.        ,\n",
              "         0.        ],\n",
              "       [ 1.        , -1.        ,  0.37796447, -0.37796447, -1.29099445,\n",
              "         1.29099445,  0.37796447, -0.37796447,  0.        ,  0.        ,\n",
              "         0.37796447, -0.37796447,  0.37796447, -0.37796447,  0.37796447,\n",
              "        -0.37796447, -2.64575131,  2.64575131,  0.37796447, -0.37796447,\n",
              "         0.37796447, -0.37796447,  0.37796447, -0.37796447,  0.        ,\n",
              "         0.        ,  0.37796447, -0.37796447, -2.64575131,  2.64575131,\n",
              "         0.        ,  0.        ,  0.37796447, -0.37796447,  0.37796447,\n",
              "        -0.37796447,  0.37796447, -0.37796447,  0.37796447, -0.37796447,\n",
              "         0.37796447, -0.37796447,  0.37796447, -0.37796447,  0.        ,\n",
              "         0.        ],\n",
              "       [-1.        ,  1.        ,  0.37796447, -0.37796447,  0.77459667,\n",
              "        -0.77459667,  0.37796447, -0.37796447,  0.        ,  0.        ,\n",
              "         0.37796447, -0.37796447,  0.37796447, -0.37796447,  0.37796447,\n",
              "        -0.37796447,  0.37796447, -0.37796447,  0.37796447, -0.37796447,\n",
              "         0.37796447, -0.37796447, -2.64575131,  2.64575131,  0.        ,\n",
              "         0.        ,  0.37796447, -0.37796447,  0.37796447, -0.37796447,\n",
              "         0.        ,  0.        ,  0.37796447, -0.37796447,  0.37796447,\n",
              "        -0.37796447,  0.37796447, -0.37796447,  0.37796447, -0.37796447,\n",
              "         0.37796447, -0.37796447, -2.64575131,  2.64575131,  0.        ,\n",
              "         0.        ],\n",
              "       [ 1.        , -1.        ,  0.37796447, -0.37796447, -1.29099445,\n",
              "         1.29099445,  0.37796447, -0.37796447,  0.        ,  0.        ,\n",
              "         0.37796447, -0.37796447,  0.37796447, -0.37796447, -2.64575131,\n",
              "         2.64575131,  0.37796447, -0.37796447,  0.37796447, -0.37796447,\n",
              "         0.37796447, -0.37796447,  0.37796447, -0.37796447,  0.        ,\n",
              "         0.        ,  0.37796447, -0.37796447,  0.37796447, -0.37796447,\n",
              "         0.        ,  0.        ,  0.37796447, -0.37796447, -2.64575131,\n",
              "         2.64575131,  0.37796447, -0.37796447,  0.37796447, -0.37796447,\n",
              "         0.37796447, -0.37796447,  0.37796447, -0.37796447,  0.        ,\n",
              "         0.        ],\n",
              "       [-1.        ,  1.        ,  0.37796447, -0.37796447,  0.77459667,\n",
              "        -0.77459667,  0.37796447, -0.37796447,  0.        ,  0.        ,\n",
              "         0.37796447, -0.37796447,  0.37796447, -0.37796447,  0.37796447,\n",
              "        -0.37796447,  0.37796447, -0.37796447,  0.37796447, -0.37796447,\n",
              "        -2.64575131,  2.64575131,  0.37796447, -0.37796447,  0.        ,\n",
              "         0.        ,  0.37796447, -0.37796447,  0.37796447, -0.37796447,\n",
              "         0.        ,  0.        ,  0.37796447, -0.37796447,  0.37796447,\n",
              "        -0.37796447,  0.37796447, -0.37796447,  0.37796447, -0.37796447,\n",
              "        -2.64575131,  2.64575131,  0.37796447, -0.37796447,  0.        ,\n",
              "         0.        ],\n",
              "       [-1.        ,  1.        ,  0.37796447, -0.37796447,  0.77459667,\n",
              "        -0.77459667,  0.37796447, -0.37796447,  0.        ,  0.        ,\n",
              "        -2.64575131,  2.64575131,  0.37796447, -0.37796447,  0.37796447,\n",
              "        -0.37796447,  0.37796447, -0.37796447,  0.37796447, -0.37796447,\n",
              "         0.37796447, -0.37796447,  0.37796447, -0.37796447,  0.        ,\n",
              "         0.        ,  0.37796447, -0.37796447,  0.37796447, -0.37796447,\n",
              "         0.        ,  0.        , -2.64575131,  2.64575131,  0.37796447,\n",
              "        -0.37796447,  0.37796447, -0.37796447,  0.37796447, -0.37796447,\n",
              "         0.37796447, -0.37796447,  0.37796447, -0.37796447,  0.        ,\n",
              "         0.        ]])"
            ]
          },
          "metadata": {},
          "execution_count": 45
        }
      ]
    },
    {
      "cell_type": "code",
      "source": [
        "X_test"
      ],
      "metadata": {
        "colab": {
          "base_uri": "https://localhost:8080/"
        },
        "id": "2Jrqxdf-yBT6",
        "outputId": "58c9da73-ae6a-4e3f-c2dd-321e5d9d60bd"
      },
      "execution_count": 46,
      "outputs": [
        {
          "output_type": "execute_result",
          "data": {
            "text/plain": [
              "array([[1., 0., 0., 1., 1., 0., 1., 0., 0., 1., 1., 0., 1., 0., 1., 0.,\n",
              "        1., 0., 1., 0., 1., 0., 1., 0., 1., 0., 1., 0., 1., 0., 0., 1.,\n",
              "        1., 0., 1., 0., 1., 0., 1., 0., 1., 0., 1., 0., 1., 0.],\n",
              "       [1., 0., 0., 1., 1., 0., 1., 0., 1., 0., 1., 0., 1., 0., 1., 0.,\n",
              "        1., 0., 1., 0., 1., 0., 1., 0., 0., 1., 1., 0., 1., 0., 1., 0.,\n",
              "        1., 0., 1., 0., 1., 0., 1., 0., 1., 0., 1., 0., 0., 1.]])"
            ]
          },
          "metadata": {},
          "execution_count": 46
        }
      ]
    },
    {
      "cell_type": "code",
      "source": [
        "X_test = sc_X.transform(X_test)"
      ],
      "metadata": {
        "id": "B6XBgZuKyFE4"
      },
      "execution_count": 48,
      "outputs": []
    },
    {
      "cell_type": "code",
      "source": [
        "X_test"
      ],
      "metadata": {
        "colab": {
          "base_uri": "https://localhost:8080/"
        },
        "id": "qEhRg5fVyQso",
        "outputId": "0485ec75-f78e-4a4e-d625-63732ef36daf"
      },
      "execution_count": 49,
      "outputs": [
        {
          "output_type": "execute_result",
          "data": {
            "text/plain": [
              "array([[ 1.        , -1.        , -2.64575131,  2.64575131,  0.77459667,\n",
              "        -0.77459667,  0.37796447, -0.37796447, -1.        ,  1.        ,\n",
              "         0.37796447, -0.37796447,  0.37796447, -0.37796447,  0.37796447,\n",
              "        -0.37796447,  0.37796447, -0.37796447,  0.37796447, -0.37796447,\n",
              "         0.37796447, -0.37796447,  0.37796447, -0.37796447,  0.        ,\n",
              "         0.        ,  0.37796447, -0.37796447,  0.37796447, -0.37796447,\n",
              "        -1.        ,  1.        ,  0.37796447, -0.37796447,  0.37796447,\n",
              "        -0.37796447,  0.37796447, -0.37796447,  0.37796447, -0.37796447,\n",
              "         0.37796447, -0.37796447,  0.37796447, -0.37796447,  0.        ,\n",
              "         0.        ],\n",
              "       [ 1.        , -1.        , -2.64575131,  2.64575131,  0.77459667,\n",
              "        -0.77459667,  0.37796447, -0.37796447,  0.        ,  0.        ,\n",
              "         0.37796447, -0.37796447,  0.37796447, -0.37796447,  0.37796447,\n",
              "        -0.37796447,  0.37796447, -0.37796447,  0.37796447, -0.37796447,\n",
              "         0.37796447, -0.37796447,  0.37796447, -0.37796447, -1.        ,\n",
              "         1.        ,  0.37796447, -0.37796447,  0.37796447, -0.37796447,\n",
              "         0.        ,  0.        ,  0.37796447, -0.37796447,  0.37796447,\n",
              "        -0.37796447,  0.37796447, -0.37796447,  0.37796447, -0.37796447,\n",
              "         0.37796447, -0.37796447,  0.37796447, -0.37796447, -1.        ,\n",
              "         1.        ]])"
            ]
          },
          "metadata": {},
          "execution_count": 49
        }
      ]
    },
    {
      "cell_type": "code",
      "source": [],
      "metadata": {
        "id": "60Xbhtw8yX2T"
      },
      "execution_count": null,
      "outputs": []
    }
  ]
}